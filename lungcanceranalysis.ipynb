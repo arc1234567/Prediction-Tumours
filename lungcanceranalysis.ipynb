import pandas as pd
df=pd.read_excel("lsc.xlsx")//THE INPUT EXCEL FILE
df1=df.drop(["radius_se","texture_se","perimeter_se","area_se","smoothness_se","compactness_se","concavity_se","points_se","symmetry_se","dimension_se","radius_worst","texture_worst","perimeter_worst","area_worst","smoothness_worst","compactness_worst","concavity_worst","points_worst","symmetry_worst","dimension_worst"],axis=1)
from sklearn.preprocessing import LabelEncoder
le_diagnosis=LabelEncoder()
df2=df1.drop(["diagnosis","id","diagno"],axis=1)// INPUT VALUES
df3=df1["diagno"]//TARGET VALUES
from sklearn.model_selection import train_test_split
x_train,x_test,y_train,y_test=train_test_split(df2,df3,train_size=0.8)
from sklearn.ensemble import RandomForestClassifier
model=RandomForestClassifier(n_estimators=1000)// BUILD RANDOM FOREST CLASSIFIER
model.fit(x_train,y_train)// FIT THE MODEL
model.score(x_test,y_test)// SCORE OF THE MODEL: 0.9736842105263158
model.predict([[20.59,21.24,137.8,1320,0.1085,0.1644,0.2188,0.1121,0.1848,0.06222]]) // PREDICT WITH A RANDIOM VALUE>>RETURN array([1])(MEANS A MALIGNANT TUMOUR AND 0 FOR BENIGN TUMOUR
